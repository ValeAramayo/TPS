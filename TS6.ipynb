{
 "cells": [
  {
   "cell_type": "markdown",
   "id": "147b52f8-256e-4d0d-8ca8-c9cae12797f9",
   "metadata": {},
   "source": [
    "Dado las siguientes ecuaciones en diferencias de los siguientes sistemas, que representan un filtro de media móvil: \n",
    "\n",
    "a) y(n)=x(n−3)+x(n−2)+x(n−1)+x(n)\n",
    "\n",
    "b) y(n)=x(n−4)+x(n−3)+x(n−2)+x(n−1)+x(n)\n",
    "\n",
    "c)  y(n)=x(n)−x(n−1)\n",
    "\n",
    "d)  y(n)=x(n)−x(n−2)\n",
    " \n",
    "Se pide:\n",
    "\n",
    "1) Hallar T(z)=Y(z)/X(z)\n",
    ".\n",
    "2) Calcular su respuesta en frecuencia de módulo y fase.\n",
    "\n",
    "3) Simular y validar la respuesta en frecuencia de todos los sistemas con Numpy."
   ]
  }
 ],
 "metadata": {
  "kernelspec": {
   "display_name": "Python 3 (ipykernel)",
   "language": "python",
   "name": "python3"
  },
  "language_info": {
   "codemirror_mode": {
    "name": "ipython",
    "version": 3
   },
   "file_extension": ".py",
   "mimetype": "text/x-python",
   "name": "python",
   "nbconvert_exporter": "python",
   "pygments_lexer": "ipython3",
   "version": "3.13.2"
  }
 },
 "nbformat": 4,
 "nbformat_minor": 5
}
